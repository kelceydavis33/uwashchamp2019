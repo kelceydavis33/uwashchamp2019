{
 "cells": [
  {
   "cell_type": "markdown",
   "metadata": {},
   "source": [
    "# **SS Tutorial**"
   ]
  },
  {
   "cell_type": "markdown",
   "metadata": {},
   "source": [
    "### Initializing"
   ]
  },
  {
   "cell_type": "markdown",
   "metadata": {},
   "source": [
    " **SS:** Initializing an SS object"
   ]
  },
  {
   "cell_type": "code",
   "execution_count": 1,
   "metadata": {},
   "outputs": [
    {
     "data": {
      "text/plain": [
       "True"
      ]
     },
     "execution_count": 1,
     "metadata": {},
     "output_type": "execute_result"
    }
   ],
   "source": [
    "from SSINS import SS\n",
    "ss = SS()\n",
    "ss.read('SSINS/data/1061313128_99bl_1pol_half_time.uvfits', ant_str = 'cross')\n",
    "ss.check()"
   ]
  },
  {
   "cell_type": "markdown",
   "metadata": {},
   "source": [
    "**SS:** Applying Flags"
   ]
  },
  {
   "cell_type": "code",
   "execution_count": 2,
   "metadata": {},
   "outputs": [
    {
     "data": {
      "text/plain": [
       "True"
      ]
     },
     "execution_count": 2,
     "metadata": {},
     "output_type": "execute_result"
    }
   ],
   "source": [
    "import numpy as np\n",
    "inpath = 'SSINS/data/1061313128_99bl_1pol_half_time.uvfits'\n",
    "#ss = SS()\n",
    "ss.read(inpath, flag_choice='original', ant_str='cross')\n",
    "np.all(ss.data_array.mask == ss.flag_array)"
   ]
  },
  {
   "cell_type": "code",
   "execution_count": 3,
   "metadata": {},
   "outputs": [],
   "source": [
    "custom = np.zeros_like(ss.flag_array)    #creates a custom flag array to then use when flaggin data from the SS object\n",
    "custom[:, 0, 0, :] = 1\n",
    "ss.apply_flags(flag_choice='custom', custom=custom)   #flags everything in the zeroth freq. channel"
   ]
  },
  {
   "cell_type": "markdown",
   "metadata": {},
   "source": [
    "> refer to INS Tutorial subsection **SS:** Applying Flags (cont.)"
   ]
  },
  {
   "cell_type": "markdown",
   "metadata": {},
   "source": [
    "### Plotting"
   ]
  },
  {
   "cell_type": "markdown",
   "metadata": {},
   "source": [
    "**SS:** Invoking Catalog_Plot"
   ]
  },
  {
   "cell_type": "code",
   "execution_count": 4,
   "metadata": {},
   "outputs": [
    {
     "name": "stderr",
     "output_type": "stream",
     "text": [
      "No handles with labels found to put in legend.\n",
      "No handles with labels found to put in legend.\n"
     ]
    }
   ],
   "source": [
    "from SSINS import Catalog_Plot as cp\n",
    "import os    #what is this?? python package that allows jupyter notebook to use the standard operating system commands \n",
    "\n",
    "prefix = 'SSINS/data/tutorial_'   #prefix for the output file onto which will be attached a tag\n",
    "\n",
    "#VDH_plot (Visibility Difference Histogram) function is from Catalog_Plot\n",
    "cp.VDH_plot(ss, prefix, file_ext='png', xlabel='Amplitude (~Jy)', xscale='log', yscale='log', pre_flag=True, pre_model=True)\n",
    "\n",
    "# Check for the file SSINS/data/tutorial_VDH.png. The obs we used earlier in\n",
    "# the tutorial has DTV RFI in it which will have contaminated the maximumum\n",
    "# likelihood estimate for the model, so the thermal model may look a little funny"
   ]
  },
  {
   "cell_type": "markdown",
   "metadata": {},
   "source": [
    "# INS Tutorial"
   ]
  },
  {
   "cell_type": "markdown",
   "metadata": {},
   "source": [
    "### Initializing"
   ]
  },
  {
   "cell_type": "markdown",
   "metadata": {},
   "source": [
    "**INS:** From an SS object"
   ]
  },
  {
   "cell_type": "code",
   "execution_count": 5,
   "metadata": {},
   "outputs": [],
   "source": [
    "from SSINS import INS\n",
    "ins = INS(ss)"
   ]
  },
  {
   "cell_type": "markdown",
   "metadata": {},
   "source": [
    ">**SS:** Applying Flags (cont.)"
   ]
  },
  {
   "cell_type": "code",
   "execution_count": 6,
   "metadata": {},
   "outputs": [
    {
     "name": "stderr",
     "output_type": "stream",
     "text": [
      "Custom flags were chosen, but custom flags were None type. Setting flags to None.\n"
     ]
    },
    {
     "data": {
      "text/plain": [
       "False"
      ]
     },
     "execution_count": 6,
     "metadata": {},
     "output_type": "execute_result"
    }
   ],
   "source": [
    "ss.apply_flags(flag_choice='custom', INS=ins)\n",
    "ss.apply_flags(flag_choice=None)   #unflags all the data to then analyze suspicious flags from the data\n",
    "np.any(ss.data_array.mask)   #shows that data_array does not have any flags in the data"
   ]
  },
  {
   "cell_type": "markdown",
   "metadata": {},
   "source": [
    "**INS:** From a saved file"
   ]
  },
  {
   "cell_type": "code",
   "execution_count": 7,
   "metadata": {},
   "outputs": [],
   "source": [
    "#inpath = 'SSINS/data/1061313128_99_bl_1pol_half_time_SSINS.h5'\n",
    "#ins = INS(path)"
   ]
  },
  {
   "cell_type": "markdown",
   "metadata": {},
   "source": [
    "### Writing\n",
    "\n",
    "We can write the information from an INS out to h5 files using the write method. There are ***three main data products*** to write out: \n",
    "\n",
    "(1) The baseline averaged visibility difference amplitudes, \n",
    "\n",
    "(2) The z-scores from mean-subtraction, and \n",
    "\n",
    "(3) any mask that may have come from flagging."
   ]
  },
  {
   "cell_type": "markdown",
   "metadata": {},
   "source": [
    "**INS:** Writing the three main data products"
   ]
  },
  {
   "cell_type": "code",
   "execution_count": 8,
   "metadata": {},
   "outputs": [],
   "source": [
    "#prefix = 'SSINS/data/tutorial_'\n",
    "\n",
    "#writing the data\n",
    "ins.write('joy', output_type='data')\n",
    "\n",
    "#writing the z-scores\n",
    "ins.write('job', output_type='z_score')   #what are the z-scores?? the magnitude of standard deviation fom the mean of the data (if there are 3.1sigma, the z-score is 3.1)\n",
    "\n",
    "# We detail how to use the match_filter to flag an INS in the match_filter section\n",
    "# This will apply masks to the data, which we write as follows\n",
    "ins.write('jog', output_type='mask')\n",
    "\n",
    "# We can apply these on read from the output file using the mask_file keyword on init"
   ]
  },
  {
   "cell_type": "markdown",
   "metadata": {},
   "source": [
    "**INS:** Writing time-propagated flags"
   ]
  },
  {
   "cell_type": "code",
   "execution_count": 9,
   "metadata": {},
   "outputs": [
    {
     "name": "stdout",
     "output_type": "stream",
     "text": [
      "<class 'numpy.ma.core.MaskedArray'>\n"
     ]
    }
   ],
   "source": [
    "print(type(ins.metric_array))"
   ]
  },
  {
   "cell_type": "code",
   "execution_count": null,
   "metadata": {},
   "outputs": [],
   "source": []
  }
 ],
 "metadata": {
  "kernelspec": {
   "display_name": "Python 3",
   "language": "python",
   "name": "python3"
  },
  "language_info": {
   "codemirror_mode": {
    "name": "ipython",
    "version": 3
   },
   "file_extension": ".py",
   "mimetype": "text/x-python",
   "name": "python",
   "nbconvert_exporter": "python",
   "pygments_lexer": "ipython3",
   "version": "3.6.8"
  }
 },
 "nbformat": 4,
 "nbformat_minor": 2
}

{
 "cells": [
  {
   "cell_type": "markdown",
   "metadata": {},
   "source": [
    "# SSINS Tutorial\n",
    "* tutorial link: https://ssins.readthedocs.io/en/latest/tutorial.html?highlight=tutorial\n",
    "\n",
    "\n",
    "* using the order parameter: Order is not a possible key word for ins.mean_subtract. The help function shows it only takes a slice which is usually not set by the user. Tried: removing the argument (worked) now there is an issue with the INS function call. Resolved: just needed to change the inpath to the correct file\n",
    "\n",
    "\n",
    "* using polt_lib: removed an argument from ins.mean_subtract\n",
    "\n",
    "\n",
    "* Skipped: writing an MWAF file\n"
   ]
  },
  {
   "cell_type": "markdown",
   "metadata": {},
   "source": [
    "### Initializing an SS Object"
   ]
  },
  {
   "cell_type": "code",
   "execution_count": 1,
   "metadata": {},
   "outputs": [
    {
     "ename": "ModuleNotFoundError",
     "evalue": "No module named 'SSINS'",
     "output_type": "error",
     "traceback": [
      "\u001b[0;31m------------------------------------------------\u001b[0m",
      "\u001b[0;31mModuleNotFoundError\u001b[0mTraceback (most recent call last)",
      "\u001b[0;32m<ipython-input-1-8587c92f15a7>\u001b[0m in \u001b[0;36m<module>\u001b[0;34m\u001b[0m\n\u001b[0;32m----> 1\u001b[0;31m \u001b[0;32mfrom\u001b[0m \u001b[0mSSINS\u001b[0m \u001b[0;32mimport\u001b[0m \u001b[0mSS\u001b[0m\u001b[0;34m\u001b[0m\u001b[0;34m\u001b[0m\u001b[0m\n\u001b[0m\u001b[1;32m      2\u001b[0m \u001b[0;32mfrom\u001b[0m \u001b[0mSSINS\u001b[0m \u001b[0;32mimport\u001b[0m \u001b[0mINS\u001b[0m\u001b[0;34m\u001b[0m\u001b[0;34m\u001b[0m\u001b[0m\n\u001b[1;32m      3\u001b[0m \u001b[0;32mimport\u001b[0m \u001b[0mnumpy\u001b[0m \u001b[0;32mas\u001b[0m \u001b[0mnp\u001b[0m\u001b[0;34m\u001b[0m\u001b[0;34m\u001b[0m\u001b[0m\n\u001b[1;32m      4\u001b[0m \u001b[0;32mfrom\u001b[0m \u001b[0mSSINS\u001b[0m \u001b[0;32mimport\u001b[0m \u001b[0mCatalog_Plot\u001b[0m \u001b[0;32mas\u001b[0m \u001b[0mcp\u001b[0m\u001b[0;34m\u001b[0m\u001b[0;34m\u001b[0m\u001b[0m\n\u001b[1;32m      5\u001b[0m \u001b[0;32mimport\u001b[0m \u001b[0mos\u001b[0m\u001b[0;34m\u001b[0m\u001b[0;34m\u001b[0m\u001b[0m\n",
      "\u001b[0;31mModuleNotFoundError\u001b[0m: No module named 'SSINS'"
     ]
    }
   ],
   "source": [
    "from SSINS import SS\n",
    "from SSINS import INS\n",
    "import numpy as np\n",
    "from SSINS import Catalog_Plot as cp\n",
    "import os\n",
    "from matplotlib import cm\n",
    "from SSINS import plot_lib\n",
    "import matplotlib.pyplot as plt\n",
    "%matplotlib inline\n",
    "from SSINS import MF"
   ]
  },
  {
   "cell_type": "code",
   "execution_count": 21,
   "metadata": {},
   "outputs": [],
   "source": [
    "# The SS object is a subclass of a UVData object and is initialized in an identical way\n",
    "#omits auto-correlation on read\n",
    "ss = SS()"
   ]
  },
  {
   "cell_type": "code",
   "execution_count": 22,
   "metadata": {},
   "outputs": [
    {
     "data": {
      "text/plain": [
       "{'_Ntimes': <pyuvdata.parameter.UVParameter at 0x7ff783a74320>,\n",
       " '_Nbls': <pyuvdata.parameter.UVParameter at 0x7ff78283fc88>,\n",
       " '_Nblts': <pyuvdata.parameter.UVParameter at 0x7ff78283fe80>,\n",
       " '_Nfreqs': <pyuvdata.parameter.UVParameter at 0x7ff78283fb70>,\n",
       " '_Npols': <pyuvdata.parameter.UVParameter at 0x7ff783a9e7b8>,\n",
       " '_data_array': <pyuvdata.parameter.UVParameter at 0x7ff783acdb70>,\n",
       " '_vis_units': <pyuvdata.parameter.UVParameter at 0x7ff7812c85c0>,\n",
       " '_nsample_array': <pyuvdata.parameter.UVParameter at 0x7ff7812c8470>,\n",
       " '_flag_array': <pyuvdata.parameter.UVParameter at 0x7ff7812c8cf8>,\n",
       " '_Nspws': <pyuvdata.parameter.UVParameter at 0x7ff7812c8ac8>,\n",
       " '_spw_array': <pyuvdata.parameter.UVParameter at 0x7ff7812c8668>,\n",
       " '_uvw_array': <pyuvdata.parameter.UVParameter at 0x7ff7812c8c88>,\n",
       " '_time_array': <pyuvdata.parameter.UVParameter at 0x7ff7812b98d0>,\n",
       " '_lst_array': <pyuvdata.parameter.UVParameter at 0x7ff7812b9c18>,\n",
       " '_ant_1_array': <pyuvdata.parameter.UVParameter at 0x7ff780826390>,\n",
       " '_ant_2_array': <pyuvdata.parameter.UVParameter at 0x7ff780824588>,\n",
       " '_baseline_array': <pyuvdata.parameter.UVParameter at 0x7ff7ac969978>,\n",
       " '_freq_array': <pyuvdata.parameter.UVParameter at 0x7ff783a76e80>,\n",
       " '_polarization_array': <pyuvdata.parameter.UVParameter at 0x7ff7812d5320>,\n",
       " '_integration_time': <pyuvdata.parameter.UVParameter at 0x7ff7812d5198>,\n",
       " '_channel_width': <pyuvdata.parameter.UVParameter at 0x7ff7812d54a8>,\n",
       " '_object_name': <pyuvdata.parameter.UVParameter at 0x7ff7812d53c8>,\n",
       " '_telescope_name': <pyuvdata.parameter.UVParameter at 0x7ff7812d5748>,\n",
       " '_instrument': <pyuvdata.parameter.UVParameter at 0x7ff780863320>,\n",
       " '_telescope_location': <pyuvdata.parameter.LocationParameter at 0x7ff780863278>,\n",
       " '_history': <pyuvdata.parameter.UVParameter at 0x7ff7808632b0>,\n",
       " '_phase_type': <pyuvdata.parameter.UVParameter at 0x7ff780863198>,\n",
       " '_phase_center_epoch': <pyuvdata.parameter.UVParameter at 0x7ff780863208>,\n",
       " '_phase_center_ra': <pyuvdata.parameter.AngleParameter at 0x7ff7808631d0>,\n",
       " '_phase_center_dec': <pyuvdata.parameter.AngleParameter at 0x7ff780863160>,\n",
       " '_phase_center_frame': <pyuvdata.parameter.UVParameter at 0x7ff7808633c8>,\n",
       " '_Nants_data': <pyuvdata.parameter.UVParameter at 0x7ff780863588>,\n",
       " '_Nants_telescope': <pyuvdata.parameter.UVParameter at 0x7ff782ee25f8>,\n",
       " '_antenna_names': <pyuvdata.parameter.UVParameter at 0x7ff782ee29b0>,\n",
       " '_antenna_numbers': <pyuvdata.parameter.UVParameter at 0x7ff782eeb898>,\n",
       " '_x_orientation': <pyuvdata.parameter.UVParameter at 0x7ff782eebba8>,\n",
       " '_extra_keywords': <pyuvdata.parameter.UVParameter at 0x7ff782eeb7b8>,\n",
       " '_antenna_positions': <pyuvdata.parameter.AntPositionParameter at 0x7ff782eeb128>,\n",
       " '_antenna_diameters': <pyuvdata.parameter.UVParameter at 0x7ff782eebe80>,\n",
       " '_gst0': <pyuvdata.parameter.UVParameter at 0x7ff782eebac8>,\n",
       " '_rdate': <pyuvdata.parameter.UVParameter at 0x7ff782eeba58>,\n",
       " '_earth_omega': <pyuvdata.parameter.UVParameter at 0x7ff782eeb550>,\n",
       " '_dut1': <pyuvdata.parameter.UVParameter at 0x7ff782f5c898>,\n",
       " '_timesys': <pyuvdata.parameter.UVParameter at 0x7ff782f5c710>,\n",
       " '_uvplane_reference_time': <pyuvdata.parameter.UVParameter at 0x7ff782f5c748>,\n",
       " 'pyuvdata_version_str': '  Read/written with pyuvdata version: 1.3.8.  Git origin: git@github.com:RadioAstronomySoftwareGroup/pyuvdata.git.  Git hash: a25500c899af73e1c1cdf08deceeddf9b54c5aeb.  Git branch: master.  Git description: v1.3-521-ga25500c.',\n",
       " 'MLE': None}"
      ]
     },
     "execution_count": 22,
     "metadata": {},
     "output_type": "execute_result"
    }
   ],
   "source": [
    "#dictionary of atributes\n",
    "ss.__dict__"
   ]
  },
  {
   "cell_type": "code",
   "execution_count": 23,
   "metadata": {},
   "outputs": [],
   "source": [
    "# This is an MWA uvfits file trimmed to a single pol, 99 baselines, and only\n",
    "# half of the observing time. We can pass the same keywords for UVData.read to SS.read.\n",
    "# For instance, we read in only cross correlations here.\n",
    "ss.read('/home/kelcey/hera/Washington/SSINS/SSINS/data/1061313128_99bl_1pol_half_time.uvfits')"
   ]
  },
  {
   "cell_type": "code",
   "execution_count": 24,
   "metadata": {},
   "outputs": [
    {
     "data": {
      "text/plain": [
       "True"
      ]
     },
     "execution_count": 24,
     "metadata": {},
     "output_type": "execute_result"
    }
   ],
   "source": [
    "# We time-difference the visibilities during initialization.\n",
    "# We adjust the attributes during differencing to ensure the SS object is still a UVData object\n",
    "ss.check()"
   ]
  },
  {
   "cell_type": "markdown",
   "metadata": {},
   "source": [
    "### Applying Flags"
   ]
  },
  {
   "cell_type": "code",
   "execution_count": 41,
   "metadata": {},
   "outputs": [
    {
     "data": {
      "text/plain": [
       "True"
      ]
     },
     "execution_count": 41,
     "metadata": {},
     "output_type": "execute_result"
    }
   ],
   "source": [
    "inpath = '/home/kelcey/hera/Washington/SSINS/SSINS/data/1061313128_99bl_1pol_half_time.uvfits'\n",
    "#SSINS uses  masked numpy arrays, so we can work with multiple sets of flags along with original flagged array\n",
    "#Here we use the original flag, proogating through distancing\n",
    "ss.read(inpath, flag_choice='original', ant_str='cross')\n",
    "np.all(ss.data_array.mask == ss.flag_array)"
   ]
  },
  {
   "cell_type": "markdown",
   "metadata": {},
   "source": [
    "## INS Initalization"
   ]
  },
  {
   "cell_type": "markdown",
   "metadata": {},
   "source": [
    "Making an ins (incoherent noise spectrum)"
   ]
  },
  {
   "cell_type": "code",
   "execution_count": 26,
   "metadata": {},
   "outputs": [
    {
     "name": "stdout",
     "output_type": "stream",
     "text": [
      "File /home/kelcey/hera/Washington/SSINS/SSINS/data/tutorial__SSINS_data.h5 exists; clobbering\n",
      "File /home/kelcey/hera/Washington/SSINS/SSINS/data/tutorial__SSINS_z_score.h5 exists; clobbering\n",
      "File /home/kelcey/hera/Washington/SSINS/SSINS/data/tutorial__SSINS_mask.h5 exists; clobbering\n"
     ]
    }
   ],
   "source": [
    "#To create ins: either pass it the ss previously created or give it the file path we desire. The propper method\n",
    "#depends on which file we want to use.\n",
    "ins = INS(ss)\n",
    "\n",
    "prefix = '/home/kelcey/hera/Washington/SSINS/SSINS/data/tutorial_'\n",
    "#write the data to this file(clobber will over-write previous data)\n",
    "ins.write(prefix, output_type='data', clobber = True)\n",
    "#write the z scores\n",
    "ins.write(prefix, output_type='z_score', clobber = True)\n",
    "#write masks to the data\n",
    "ins.write(prefix, output_type='mask', clobber = True)"
   ]
  },
  {
   "cell_type": "markdown",
   "metadata": {},
   "source": [
    "Writing time propogated flags"
   ]
  },
  {
   "cell_type": "code",
   "execution_count": 27,
   "metadata": {},
   "outputs": [
    {
     "name": "stdout",
     "output_type": "stream",
     "text": [
      "File /home/kelcey/hera/Washington/SSINS/SSINS/data/tutorial__SSINS_flags.h5 exists; clobbering\n"
     ]
    }
   ],
   "source": [
    "#calculate the time-propogating flags with the mask_to_flag and extend them back across the time difference\n",
    "tp_flags = ins.mask_to_flags()\n",
    "#tp_flags is a flag array with length of original data. \n",
    "#Any samples that would have contributed to a flag difference are now flagged.\n",
    "ins.write(prefix, output_type='flags', clobber = True)\n",
    "#This writes these flags out to a format that can be read by UV flag. This method is automatically called when \n",
    "#writing flags, which is  different than writing the masked data."
   ]
  },
  {
   "cell_type": "code",
   "execution_count": 39,
   "metadata": {},
   "outputs": [],
   "source": [
    "#zeroes_like returns array of zeroes with same shape and type as given array\n",
    "#ss.apply_flags:appliese a custom flag leaving the original flag array untouched so we can revisit it. We\n",
    "#are only changing the mask on the data.\n",
    "custom = np.zeros_like(ss.flag_array)\n",
    "custom[:, 0, 0, :] = 1\n",
    "ss.apply_flags(flag_choice='custom', custom=custom)\n",
    "#Now we apply a mask from a generated ins, created above."
   ]
  },
  {
   "cell_type": "markdown",
   "metadata": {},
   "source": [
    "### Sky Subtract Plotting by Invoking Catalog Plot"
   ]
  },
  {
   "cell_type": "code",
   "execution_count": 40,
   "metadata": {},
   "outputs": [
    {
     "name": "stderr",
     "output_type": "stream",
     "text": [
      "Custom flags were chosen, but custom flags were None type. Setting flags to None.\n"
     ]
    },
    {
     "data": {
      "text/plain": [
       "False"
      ]
     },
     "execution_count": 40,
     "metadata": {},
     "output_type": "execute_result"
    }
   ],
   "source": [
    "#This cell just un-flags the data.\n",
    "ss.apply_flags(flag_choice='custom', INS=ins)\n",
    "np.any(ss.data_array.mask)"
   ]
  },
  {
   "cell_type": "code",
   "execution_count": 30,
   "metadata": {},
   "outputs": [
    {
     "name": "stderr",
     "output_type": "stream",
     "text": [
      "No handles with labels found to put in legend.\n"
     ]
    }
   ],
   "source": [
    "#Hstogram of sky-subtracted visibility amplitudes\n",
    "#VDH_plot: visibility difference histogram\n",
    "cp.VDH_plot(ss, prefix, file_ext='png', xlabel='Amplitude (~Jy)', xscale='log',\n",
    "            yscale='log', pre_flag=True, post_model=True)"
   ]
  },
  {
   "cell_type": "markdown",
   "metadata": {},
   "source": [
    "### Incoherent Noise Spectrum with the Mean Subtract method"
   ]
  },
  {
   "cell_type": "code",
   "execution_count": 31,
   "metadata": {},
   "outputs": [],
   "source": [
    "ins.data_ms = ins.mean_subtract()\n",
    "\n",
    "# A slice of the array can be calculated by using the f keyword (f for frequencies)\n",
    "# Set up a slice object for frequency channels 100 to 199 inclusive\n",
    "\n",
    "#NEW: f is now freq_slice in documentation\n",
    "f = slice(100, 200)\n",
    "ins.data_ms[:, f, :] = ins.mean_subtract(f=f)"
   ]
  },
  {
   "cell_type": "markdown",
   "metadata": {},
   "source": [
    "using the order parameter"
   ]
  },
  {
   "cell_type": "code",
   "execution_count": 32,
   "metadata": {},
   "outputs": [],
   "source": [
    "# Sometimes the mean appears to drift in time to linear or higher order\n",
    "# A polynomial fit to each channel can be constructed using the order parameter\n",
    "ins.order = 2\n",
    "#make a quadratic fit for each channel\n",
    "ins.data_ms = ins.mean_subtract()\n",
    "inpath1 = '/home/kelcey/hera/Washington/SSINS/SSINS/data/1061313128_99bl_1pol_half_time_SSINS.h5'\n",
    "#make a linear fit\n",
    "ins = INS(inpath1, order=1)"
   ]
  },
  {
   "cell_type": "markdown",
   "metadata": {},
   "source": [
    "### Plotting the Incoherent Noise Spectrum"
   ]
  },
  {
   "cell_type": "markdown",
   "metadata": {},
   "source": [
    "with catalog_plot"
   ]
  },
  {
   "cell_type": "code",
   "execution_count": 33,
   "metadata": {},
   "outputs": [],
   "source": [
    "#making tickables with the frequency array\n",
    "prefix = '/home/kelcey/hera/Washington/SSINS/SSINS/data/tutorial_'\n",
    "xticks = np.arange(0, len(ins.freq_array), 50)\n",
    "xticklabels = ['%.1f' % (ins.freq_array[tick] * 10 ** (-6)) for tick in xticks]\n",
    "cp.INS_plot(ins, prefix, data_cmap=cm.plasma, vmin=0, vmax=150, ms_vmin=-5,ms_vmax=5, \n",
    "            xticks=xticks, xticklabels=xticklabels,xlabel='Frequency (Mhz)')\n"
   ]
  },
  {
   "cell_type": "markdown",
   "metadata": {},
   "source": [
    "using plot_lib"
   ]
  },
  {
   "cell_type": "code",
   "execution_count": 42,
   "metadata": {},
   "outputs": [
    {
     "name": "stderr",
     "output_type": "stream",
     "text": [
      "Matplotlib is currently using agg, which is a non-GUI backend, so cannot show the figure.\n"
     ]
    }
   ],
   "source": [
    "#this  aproach give finer control over which plots are output.\n",
    "from matplotlib import use\n",
    "fig, ax = plt.subplots(nrows=2)\n",
    "prefix = '/home/kelcey/hera/Washington/SSINS/SSINS/data/'\n",
    "\n",
    "# Here we take an INS and plot its mean-subtracted data in the first\n",
    "# polarization with different order parameters\n",
    "\n",
    "for i in range(2):\n",
    "    ins.order = i\n",
    "    ins.metric_ms = ins.mean_subtract()\n",
    "    plot_lib.image_plot(fig, ax[i], ins.metric_ms[:,  :, 0], cmap=cm.coolwarm, \n",
    "                      title='order = %i' % i, vmin=-10, vmax=102)\n",
    "fig.savefig('%s/tutorial_order_compare.png' % prefix)\n",
    "plt.show()"
   ]
  },
  {
   "cell_type": "markdown",
   "metadata": {},
   "source": [
    "# Matching Filters"
   ]
  },
  {
   "cell_type": "markdown",
   "metadata": {},
   "source": [
    "initialization"
   ]
  },
  {
   "cell_type": "code",
   "execution_count": 35,
   "metadata": {},
   "outputs": [],
   "source": [
    "#Initialization sets desired parameters, RFI shapes are passed with a dictionary, \n",
    "shape_dict = {'TV6': [1.74e8, 1.81e8],\n",
    "                  'TV7': [1.81e8, 1.88e8],\n",
    "                  'TV8': [1.88e8, 1.96e8]}\n",
    "#determines the max strength of  the outliers to leave unflagged\n",
    "sig_thresh = 5\n",
    "\n",
    "#Single frequency flagger\n",
    "narrow = False\n",
    "\n",
    "#broadband streak flagger\n",
    "streak = False\n",
    "\n",
    "#initalizing with the frequency array\n",
    "mf = MF(ins.freq_array, sig_thresh, shape_dict=shape_dict, narrow=narrow, streak=streak)"
   ]
  },
  {
   "cell_type": "markdown",
   "metadata": {},
   "source": [
    "### Applying matching fiter tests"
   ]
  },
  {
   "cell_type": "markdown",
   "metadata": {},
   "source": [
    "basic match shape test"
   ]
  },
  {
   "cell_type": "code",
   "execution_count": 36,
   "metadata": {},
   "outputs": [
    {
     "name": "stdout",
     "output_type": "stream",
     "text": [
      "Beginning match_test at 15:06:01\n",
      "Finished match_test at 15:06:01\n"
     ]
    }
   ],
   "source": [
    "#apply flags to samples matching the flagging criteria\n",
    "mf.apply_match_test(ins, event_record=True)\n",
    "\n",
    "#plot the result and apply the mask\n",
    "cp.INS_plot(ins, prefix, ms_vmin=-mf.sig_thresh, ms_vmax=mf.sig_thresh)\n",
    "#writing the match events out to a file\n",
    "ins.write(prefix, output_type='match_events')"
   ]
  },
  {
   "cell_type": "markdown",
   "metadata": {},
   "source": [
    "flagging times for highy contaminated channels"
   ]
  },
  {
   "cell_type": "code",
   "execution_count": 37,
   "metadata": {},
   "outputs": [
    {
     "name": "stdout",
     "output_type": "stream",
     "text": [
      "Beginning match_test at 15:06:02\n",
      "Finished match_test at 15:06:02\n"
     ]
    }
   ],
   "source": [
    "#n_samp_thresh set on initalization, if there are less than these n_thresh channells, all chcannels are flagged.\n",
    "mf = MF(ins.freq_array, sig_thresh=5, N_samp_thresh=20)\n",
    "mf.apply_match_test(ins, apply_samp_thresh=True)"
   ]
  },
  {
   "cell_type": "markdown",
   "metadata": {},
   "source": [
    "find the fraction  of logged data"
   ]
  },
  {
   "cell_type": "code",
   "execution_count": 38,
   "metadata": {},
   "outputs": [
    {
     "name": "stdout",
     "output_type": "stream",
     "text": [
      "0.2674575617283951\n"
     ]
    }
   ],
   "source": [
    "#this is the total fraction of flagged data. The mask on the INS data keeps track of what is flagged.\n",
    "print(np.mean(ins.metric_array.mask))"
   ]
  }
 ],
 "metadata": {
  "kernelspec": {
   "display_name": "Python 3",
   "language": "python",
   "name": "python3"
  },
  "language_info": {
   "codemirror_mode": {
    "name": "ipython",
    "version": 3
   },
   "file_extension": ".py",
   "mimetype": "text/x-python",
   "name": "python",
   "nbconvert_exporter": "python",
   "pygments_lexer": "ipython3",
   "version": "3.6.8"
  }
 },
 "nbformat": 4,
 "nbformat_minor": 2
}
